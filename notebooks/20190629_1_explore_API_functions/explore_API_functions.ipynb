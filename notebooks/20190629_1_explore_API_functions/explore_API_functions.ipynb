{
 "cells": [
  {
   "cell_type": "code",
   "execution_count": 1,
   "metadata": {},
   "outputs": [],
   "source": [
    "from twitter import Twitter"
   ]
  },
  {
   "cell_type": "code",
   "execution_count": 2,
   "metadata": {},
   "outputs": [],
   "source": [
    "twitter = Twitter()"
   ]
  },
  {
   "cell_type": "code",
   "execution_count": 3,
   "metadata": {
    "scrolled": true
   },
   "outputs": [],
   "source": [
    "user_id = 783214\n",
    "friends_ids = twitter.get_friends_ids(user_id, max_count=100)\n",
    "followers_ids = twitter.get_followers_ids(user_id, max_count=100)\n",
    "friends_list = twitter.get_friends_list(user_id, max_count=100)\n",
    "followers_list = twitter.get_followers_list(user_id, max_count=100)\n",
    "favorites = twitter.get_favorites(user_id)\n",
    "lists = twitter.get_lists(user_id)\n",
    "tweets = twitter.get_tweets(user_id)"
   ]
  }
 ],
 "metadata": {
  "kernelspec": {
   "display_name": "TWITTER",
   "language": "python",
   "name": "twitter"
  },
  "language_info": {
   "codemirror_mode": {
    "name": "ipython",
    "version": 3
   },
   "file_extension": ".py",
   "mimetype": "text/x-python",
   "name": "python",
   "nbconvert_exporter": "python",
   "pygments_lexer": "ipython3",
   "version": "3.7.0"
  }
 },
 "nbformat": 4,
 "nbformat_minor": 2
}
